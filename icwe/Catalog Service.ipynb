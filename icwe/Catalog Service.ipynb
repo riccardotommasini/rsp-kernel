{
 "cells": [
  {
   "cell_type": "markdown",
   "metadata": {},
   "source": [
    "# Catalog Service"
   ]
  },
  {
   "cell_type": "markdown",
   "metadata": {},
   "source": [
    "## use the magic to add the engine backend"
   ]
  },
  {
   "cell_type": "code",
   "execution_count": null,
   "metadata": {},
   "outputs": [
    {
     "data": {
      "text/html": [
       "<div class=\"krn-spql\"><div class=\"magic\">Logging set to DEBUG</div></div>"
      ],
      "text/plain": [
       "Logging set to DEBUG\n"
      ]
     },
     "metadata": {},
     "output_type": "display_data"
    }
   ],
   "source": [
    "%log debug"
   ]
  },
  {
   "cell_type": "code",
   "execution_count": null,
   "metadata": {},
   "outputs": [
    {
     "data": {
      "text/html": [
       "<div class=\"krn-spql\"><div class=\"magic\">Catalog set to: http://docker.for.mac.localhost:8181/csparql</div></div>"
      ],
      "text/plain": [
       "Catalog set to: http://docker.for.mac.localhost:8181/csparql\n"
      ]
     },
     "metadata": {},
     "output_type": "display_data"
    }
   ],
   "source": [
    "%catalog http://docker.for.mac.localhost:8181/csparql"
   ]
  },
  {
   "cell_type": "code",
   "execution_count": 3,
   "metadata": {},
   "outputs": [
    {
     "data": {
      "text/html": [
       "<div class=\"krn-spql\"><table border=\"1\"><tr><th>iri</th></tr><tr><td>http://localhost:8181/csparql/streams/s2</td></tr><tr><td>http://localhost:8181/csparql/streams/q1</td></tr><tr><td>http://localhost:4000/stream1</td></tr><tr><td>http://localhost:8181/csparql/streams/q1</td></tr><tr><td>http://localhost:8181/csparql/streams/q2</td></tr></table></div>"
      ]
     },
     "metadata": {},
     "output_type": "display_data"
    }
   ],
   "source": [
    "LIST STREAMS"
   ]
  }
 ],
 "metadata": {
  "kernelspec": {
   "display_name": "SPARQL",
   "language": "sparql",
   "name": "sparql"
  },
  "language_info": {
   "codemirror_mode": {
    "name": "sparql"
   },
   "mimetype": "application/sparql-query",
   "name": "sparql",
   "pygments_lexer": "sparql-nb"
  }
 },
 "nbformat": 4,
 "nbformat_minor": 2
}
